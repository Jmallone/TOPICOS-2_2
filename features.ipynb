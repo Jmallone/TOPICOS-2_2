{
 "cells": [
  {
   "cell_type": "markdown",
   "id": "498e344d",
   "metadata": {},
   "source": [
    "# Extração e seleção de características\n",
    "\n",
    "As características que são extraídas dos dados dependem de sua natureza. Os dados EMG são sinais elétricos coletados dentro de um período de tempo, portanto são dados no domínio do tempo. As características deste domínio são extraídas dele. Também é possível transformar os dados EMG para o domínio da frequência e extrair características neste domínio. Existem diversas características que podem ser extraídas de cada domínio, entretando nem todas elas serão relevantes. Cada problema se beneficia de características ou combinações delas. Portanto, é preciso que haja uma seleção de características para encontrar a combinação de características que trará melhor resultado na posterior classificação dos dados."
   ]
  },
  {
   "cell_type": "markdown",
   "id": "c5ab992f",
   "metadata": {},
   "source": [
    "## Reutilizando os passos anteriores\n",
    "\n",
    "É necessário carregar os dados pré-processados, para dar início à extração de características. No jupyter notebook podemos utilizar o namespace completo de outro notebook:"
   ]
  },
  {
   "cell_type": "code",
   "execution_count": 1,
   "id": "dda6bf67",
   "metadata": {},
   "outputs": [
    {
     "name": "stdout",
     "output_type": "stream",
     "text": [
      "(20000, 2)\n",
      "(10, 6, 20000, 2) - (classes, ensaios, linhas, canais)\n",
      "(10, 6, 2, 20000) - (classes, ensaios, canais, linhas)\n",
      "(10, 6, 2, 20000) - (classes, ensaios, canais, linhas)\n",
      "(10, 6, 2, 20000) - (classes, ensaios, canais, linhas)\n",
      "(10, 6, 2, 20000) - (classes, ensaios, canais, linhas)\n",
      "(10, 6, 2, 20000) - (classes, ensaios, canais, linhas)\n",
      "(10, 6, 2, 20000) - (classes, ensaios, canais, linhas)\n",
      "(10, 6, 2, 20000) - (classes, ensaios, canais, linhas)\n",
      "(10, 6, 2, 20000) - (classes, ensaios, canais, linhas)\n",
      "(10, 6, 2, 20000) - (classes, ensaios, canais, linhas)\n",
      "(10, 6, 2, 20000) - (classes, ensaios, canais, linhas)\n",
      "(10, 6, 2, 20000) - (classes, ensaios, canais, linhas)\n",
      " (60, 2, 20000)\n",
      "Formato (shape) dos dados depois da divisão de janelas\n",
      "Dominio do tempo: (60, 2, 41, 1024) - (classes+ensaios, canais, janelas, linhas)\n",
      "Dominio da frequência:  (60, 2, 41, 513) - (classes+ensaios, canais, janelas, linhas)\n"
     ]
    }
   ],
   "source": [
    "%run preprocessing.ipynb"
   ]
  },
  {
   "cell_type": "markdown",
   "id": "e502801e",
   "metadata": {},
   "source": [
    "Uma característica é uma propriedade individual mensurável ou característica de um fenômeno que está sendo observado. Em EMG, uma característica pode ser extraída no domínio do tempo ou no domínio da frequência. As características a seguir foram retiradas do artigo *EMG Feature Extraction for Tolerance of White Gaussian Noise* \\[1\\].\n",
    "\n",
    "### Domínio do tempo\n",
    "\n",
    "1. Willison Amplitude (WAMP)\n",
    "\n",
    "    > $ \\sum_{i=1}^{N-1}f(|x_i - x_{i+1}|) \\\\$\n",
    "    $ sgn(x) = \\begin{cases} 1 & \\text{if } x \\geq threshold \\\\ 0 & \\text{otherwise} \\end{cases} $\n",
    "\n",
    "2. Variance of EMG (VAR-E)\n",
    "\n",
    "    > $ \\frac{1}{N}\\sum_{i=1}^{N}x_i^2 $\n",
    "\n",
    "3. Root Mean Square (RMS)\n",
    "\n",
    "    > $ \\sqrt{\\frac{1}{N-1}\\sum_{i=1}^{N}|x_i|^2} $\n",
    "\n",
    "4. Waveform Length (WL)\n",
    "    \n",
    "    > $ \\sum_{i=1}^{N-1}|x_{i+1} - x_i| $\n",
    "\n",
    "5. Zero Crossing (ZC)\n",
    "\n",
    "    > $ \\sum_{i=1}^{N}[sgn(x_i x_{i+1}) \\cap |x_i - x_{i+1}| \\geq threshold] \\\\$\n",
    "    $ sgn(x) = \\begin{cases} 1 & \\text{if } x \\geq threshold \\\\ 0 & \\text{otherwise} \\end{cases} $\n",
    "\n",
    "### Domínio da frequência\n",
    "\n",
    "1. Auto Regressive (AR)\n",
    "\n",
    "    > $ - \\sum_{j=1}^{\\rho}\\alpha_j x_{j-1} + w_n $\n",
    "\n",
    "2. Median Frequency (FMD)\n",
    "\n",
    "    > $ \\frac{1}{2}\\sum_{j=1}^{M}PSD_j $\n",
    "\n",
    "3. Mean Frequency (FMN)\n",
    "\n",
    "    > $ \\sum_{j=1}^{M}f_j PSD_j \\Big{ / } \\sum_{j=1}^{M}PSD_j $\n",
    "\n",
    "4. Modified Median Frequency (MMDF)\n",
    "\n",
    "    > $ \\frac{1}{2}\\sum_{i=1}^{M}A_j $\n",
    "\n",
    "\n",
    "\\[1\\] Phinyomark, Angkoon & Limsakul, Chusak & Phukpattaranont, P.. (2008). EMG Feature Extraction for Tolerance of White Gaussian Noise.\n",
    "[Disponível neste link](https://www.researchgate.net/publication/263765853_EMG_Feature_Extraction_for_Tolerance_of_White_Gaussian_Noise)\n",
    "\n",
    "**Desafio 1**: Descrever as características de acordo com o artigo citado e outros disponíveis relacionados. O que está querendo \"ser visto\" em cada característica? Qual é o significado matemático de cada uma delas?"
   ]
  },
  {
   "cell_type": "markdown",
   "id": "b9cc5916",
   "metadata": {},
   "source": [
    "### Extraindo características\n",
    "\n",
    "É necessário implementar as características, geralmente em formato de funções ou métodos, para que seja possível aplicar tais funções aos dados de entrada e obter as características resultantes. A seguir temos a implementação das características VAR & RMS (domínio do tempo) e FDM & MMDF (domínio da frequência)."
   ]
  },
  {
   "cell_type": "code",
   "execution_count": 68,
   "id": "5f5b617a",
   "metadata": {},
   "outputs": [],
   "source": []
  },
  {
   "cell_type": "code",
   "execution_count": 40,
   "id": "e15a73e9",
   "metadata": {},
   "outputs": [],
   "source": [
    "from math import prod\n",
    "\n",
    "# funções auxiliares\n",
    "def PSD(w):\n",
    "    ''' definição da função PSD para o sinal no domínio da frequência '''\n",
    "    return np.abs(w) ** 2\n",
    "\n",
    "\n",
    "# funções de extração de características\n",
    "\n",
    "def wamp(x, th):\n",
    "    res = np.abs(np.diff(x))\n",
    "    return np.sum(res >= th, axis=-1)\n",
    "\n",
    "def wl(x):\n",
    "    res = np.abs(np.diff(x))\n",
    "    return np.sum(res, axis=-1)\n",
    "\n",
    "def zc(x,threshold):\n",
    "    zc = (lambda x: x + 1)\n",
    "    return zc\n",
    "\n",
    "def var(x):\n",
    "    return np.sum(x ** 2, axis=-1) / (np.prod(x.shape[:-1]) - 1)\n",
    "\n",
    "def rms(x):\n",
    "    return np.sqrt(np.sum(np.abs(x) ** 2, axis=-1) / (np.prod(x.shape[:-1]) - 1))\n",
    "\n",
    "def fmd(w):\n",
    "    return np.sum(PSD(w), axis=-1) / 2\n",
    "\n",
    "def mmdf(w):\n",
    "    return np.sum(np.abs(w), axis=-1) / 2"
   ]
  },
  {
   "cell_type": "code",
   "execution_count": 10,
   "id": "fe476788",
   "metadata": {},
   "outputs": [],
   "source": [
    "def moda(x):\n",
    "    vals,counts = np.unique(x, return_counts=True)\n",
    "    mode_value = np.argwhere(counts == np.max(counts))\n",
    "    print(vals)\n",
    "    \n",
    "    return mode_value.flatten().tolist(), vals, counts"
   ]
  },
  {
   "cell_type": "code",
   "execution_count": 11,
   "id": "64c0f1d4",
   "metadata": {},
   "outputs": [
    {
     "name": "stdout",
     "output_type": "stream",
     "text": [
      "[-0.00378144 -0.00368428 -0.00359885 ...  0.00188989  0.00193046\n",
      "  0.00196623]\n"
     ]
    }
   ],
   "source": [
    "from scipy import stats\n",
    "\n",
    "th = np.median(chunks_time)\n",
    "avr = np.mean(chunks_time)\n",
    "m, vals, counts = moda(chunks_time)"
   ]
  },
  {
   "cell_type": "code",
   "execution_count": 26,
   "id": "6a63be67",
   "metadata": {},
   "outputs": [],
   "source": [
    "\n",
    "#     for i in range(len(x)-1):\n",
    "#         f.append((x[i]-th)*(x[i+1]-th))\n",
    "#     f = np.array(f)\n",
    "#     return np.sum(f > th, axis=-1)\n"
   ]
  },
  {
   "cell_type": "code",
   "execution_count": 100,
   "id": "de031659",
   "metadata": {},
   "outputs": [
    {
     "data": {
      "text/plain": [
       "(60, 2, 41, 1024)"
      ]
     },
     "execution_count": 100,
     "metadata": {},
     "output_type": "execute_result"
    }
   ],
   "source": [
    "chunks_time.shape"
   ]
  },
  {
   "cell_type": "code",
   "execution_count": 72,
   "id": "8061bf74",
   "metadata": {
    "collapsed": true
   },
   "outputs": [
    {
     "data": {
      "text/plain": [
       "array([[[[ True, False, False, ...,  True, False, False],\n",
       "         [False, False, False, ...,  True,  True,  True],\n",
       "         [False, False, False, ..., False, False,  True],\n",
       "         ...,\n",
       "         [False, False, False, ..., False, False, False],\n",
       "         [False, False, False, ..., False, False, False],\n",
       "         [False, False, False, ..., False, False, False]],\n",
       "\n",
       "        [[False, False, False, ..., False, False, False],\n",
       "         [ True,  True, False, ...,  True,  True,  True],\n",
       "         [False, False, False, ..., False, False, False],\n",
       "         ...,\n",
       "         [False, False, False, ..., False, False, False],\n",
       "         [ True,  True, False, ..., False, False, False],\n",
       "         [False, False, False, ..., False,  True,  True]]],\n",
       "\n",
       "\n",
       "       [[[False, False, False, ...,  True,  True,  True],\n",
       "         [False, False, False, ...,  True,  True,  True],\n",
       "         [False,  True,  True, ..., False, False, False],\n",
       "         ...,\n",
       "         [ True,  True,  True, ..., False, False,  True],\n",
       "         [False, False, False, ..., False, False, False],\n",
       "         [False, False, False, ..., False, False, False]],\n",
       "\n",
       "        [[False, False, False, ..., False, False, False],\n",
       "         [ True,  True,  True, ..., False, False, False],\n",
       "         [False, False,  True, ..., False, False, False],\n",
       "         ...,\n",
       "         [ True,  True,  True, ..., False,  True,  True],\n",
       "         [False, False, False, ...,  True,  True, False],\n",
       "         [ True,  True,  True, ..., False, False, False]]],\n",
       "\n",
       "\n",
       "       [[[False, False, False, ..., False, False, False],\n",
       "         [False,  True,  True, ..., False, False, False],\n",
       "         [False, False, False, ...,  True,  True,  True],\n",
       "         ...,\n",
       "         [False,  True,  True, ..., False, False, False],\n",
       "         [ True,  True,  True, ..., False, False,  True],\n",
       "         [False, False, False, ..., False, False, False]],\n",
       "\n",
       "        [[False, False, False, ..., False, False, False],\n",
       "         [False, False, False, ..., False, False, False],\n",
       "         [False, False, False, ..., False, False, False],\n",
       "         ...,\n",
       "         [False, False, False, ...,  True,  True,  True],\n",
       "         [False, False, False, ..., False, False,  True],\n",
       "         [False, False, False, ..., False, False, False]]],\n",
       "\n",
       "\n",
       "       ...,\n",
       "\n",
       "\n",
       "       [[[False, False, False, ..., False, False,  True],\n",
       "         [False, False, False, ...,  True,  True,  True],\n",
       "         [False, False, False, ..., False, False, False],\n",
       "         ...,\n",
       "         [False, False, False, ...,  True,  True,  True],\n",
       "         [ True,  True, False, ...,  True,  True,  True],\n",
       "         [ True,  True,  True, ...,  True,  True,  True]],\n",
       "\n",
       "        [[False, False, False, ..., False, False, False],\n",
       "         [ True,  True,  True, ..., False, False, False],\n",
       "         [ True,  True,  True, ...,  True,  True,  True],\n",
       "         ...,\n",
       "         [False, False, False, ...,  True,  True, False],\n",
       "         [False, False, False, ..., False, False, False],\n",
       "         [False, False, False, ..., False, False, False]]],\n",
       "\n",
       "\n",
       "       [[[False, False, False, ..., False, False, False],\n",
       "         [ True,  True,  True, ..., False, False, False],\n",
       "         [ True, False, False, ..., False, False, False],\n",
       "         ...,\n",
       "         [False, False, False, ..., False, False, False],\n",
       "         [False, False, False, ...,  True,  True,  True],\n",
       "         [ True,  True, False, ..., False,  True,  True]],\n",
       "\n",
       "        [[False, False, False, ..., False, False,  True],\n",
       "         [False, False, False, ...,  True, False, False],\n",
       "         [ True,  True, False, ...,  True,  True,  True],\n",
       "         ...,\n",
       "         [ True,  True,  True, ..., False, False, False],\n",
       "         [False, False, False, ..., False, False, False],\n",
       "         [False, False, False, ..., False, False, False]]],\n",
       "\n",
       "\n",
       "       [[[False, False, False, ..., False, False, False],\n",
       "         [ True,  True,  True, ...,  True,  True,  True],\n",
       "         [ True,  True,  True, ..., False, False, False],\n",
       "         ...,\n",
       "         [False, False, False, ..., False, False, False],\n",
       "         [ True,  True,  True, ...,  True,  True,  True],\n",
       "         [False, False, False, ..., False,  True,  True]],\n",
       "\n",
       "        [[False, False, False, ...,  True,  True,  True],\n",
       "         [ True,  True,  True, ..., False,  True,  True],\n",
       "         [ True,  True,  True, ..., False, False, False],\n",
       "         ...,\n",
       "         [False, False, False, ..., False, False, False],\n",
       "         [ True,  True,  True, ..., False, False, False],\n",
       "         [False, False, False, ..., False,  True,  True]]]])"
      ]
     },
     "execution_count": 72,
     "metadata": {},
     "output_type": "execute_result"
    }
   ],
   "source": [
    "chunks_time > 2.28618042e-05"
   ]
  },
  {
   "cell_type": "code",
   "execution_count": null,
   "id": "41770c50",
   "metadata": {},
   "outputs": [],
   "source": []
  },
  {
   "cell_type": "code",
   "execution_count": 3,
   "id": "a52d2964",
   "metadata": {},
   "outputs": [],
   "source": [
    "def getZC(rawEMGSignal, threshold):\n",
    "    positive = (rawEMGSignal[0] > threshold)\n",
    "\n",
    "    ZC = 0\n",
    "    for x in rawEMGSignal[1:]:\n",
    "        if(positive):\n",
    "            if(x < 0 -threshold):\n",
    "                positive = False\n",
    "                ZC += 1\n",
    "        else:\n",
    "            if(x > 0 + threshold):\n",
    "                positive = True\n",
    "                ZC += 1\n",
    "    return(ZC)"
   ]
  },
  {
   "cell_type": "code",
   "execution_count": null,
   "id": "65355a68",
   "metadata": {},
   "outputs": [],
   "source": []
  },
  {
   "cell_type": "code",
   "execution_count": null,
   "id": "8383b31f",
   "metadata": {},
   "outputs": [],
   "source": []
  },
  {
   "cell_type": "code",
   "execution_count": null,
   "id": "88e63693",
   "metadata": {},
   "outputs": [],
   "source": []
  },
  {
   "cell_type": "code",
   "execution_count": null,
   "id": "32633bfb",
   "metadata": {},
   "outputs": [],
   "source": []
  },
  {
   "cell_type": "code",
   "execution_count": 70,
   "id": "cc0174f9",
   "metadata": {},
   "outputs": [],
   "source": [
    "def getZC2(data, threshold):\n",
    "    tamanho = len(data)\n",
    "    somatoria = 0\n",
    "    \n",
    "    for i in range(tamanho-1):\n",
    "        resultado = (data[i]-threshold) * (data[i+1] - threshold)\n",
    "        \n",
    "        if(resultado >= threshold):\n",
    "            somatoria += 1\n",
    "        \n",
    "    return somatoria"
   ]
  },
  {
   "cell_type": "code",
   "execution_count": 72,
   "id": "0d4665e9",
   "metadata": {},
   "outputs": [],
   "source": [
    "def getZC3(data, threshold):\n",
    "    tamanho = len(data)\n",
    "    somatoria = 0\n",
    "    \n",
    "    for i in range(tamanho-1):\n",
    "        resultado = (data[i] * data[i+1] )\n",
    "        \n",
    "        if(resultado < 0):\n",
    "            somatoria += 1\n",
    "        \n",
    "    return somatoria"
   ]
  },
  {
   "cell_type": "code",
   "execution_count": 93,
   "id": "353462d6",
   "metadata": {},
   "outputs": [
    {
     "data": {
      "text/plain": [
       "92"
      ]
     },
     "execution_count": 93,
     "metadata": {},
     "output_type": "execute_result"
    }
   ],
   "source": [
    "getZC(chunks_time[0][0][25], 2.28618042e-05)"
   ]
  },
  {
   "cell_type": "code",
   "execution_count": 65,
   "id": "b68aa4bb",
   "metadata": {},
   "outputs": [
    {
     "data": {
      "text/plain": [
       "(60, 2, 41, 1024)"
      ]
     },
     "execution_count": 65,
     "metadata": {},
     "output_type": "execute_result"
    }
   ],
   "source": [
    "chunks_time.shape"
   ]
  },
  {
   "cell_type": "markdown",
   "id": "ae5b280b",
   "metadata": {},
   "source": [
    "https://ieeexplore.ieee.org/stamp/stamp.jsp?tp=&arnumber=8951119"
   ]
  },
  {
   "cell_type": "code",
   "execution_count": null,
   "id": "686a24f9",
   "metadata": {},
   "outputs": [],
   "source": []
  },
  {
   "cell_type": "code",
   "execution_count": null,
   "id": "fcb25c03",
   "metadata": {},
   "outputs": [],
   "source": []
  },
  {
   "cell_type": "code",
   "execution_count": null,
   "id": "a0bd81a2",
   "metadata": {},
   "outputs": [],
   "source": []
  },
  {
   "cell_type": "code",
   "execution_count": 66,
   "id": "665cb588",
   "metadata": {},
   "outputs": [],
   "source": [
    "def zc(data,threshold):\n",
    "    f =[]\n",
    "    x,y,z = data.shape[:3]\n",
    "    for xx in range(x):\n",
    "        fx = []\n",
    "        for yy in range(y):\n",
    "            fy = []\n",
    "            for zz in range(z):\n",
    "                fy.append( getZC2(data[xx][yy][zz], threshold ) )\n",
    "            fx.append(fy)\n",
    "        f.append(fx)\n",
    "    return f"
   ]
  },
  {
   "cell_type": "code",
   "execution_count": 69,
   "id": "a68116cf",
   "metadata": {},
   "outputs": [
    {
     "data": {
      "text/plain": [
       "(60, 2, 41)"
      ]
     },
     "execution_count": 69,
     "metadata": {},
     "output_type": "execute_result"
    }
   ],
   "source": [
    "resultado = zc(chunks_time,2.28618042e-07)\n",
    "np.array(resultado).shape"
   ]
  },
  {
   "cell_type": "code",
   "execution_count": 22,
   "id": "8f181b06",
   "metadata": {},
   "outputs": [
    {
     "data": {
      "text/plain": [
       "array([[ 95,  97, 103, 101,  96,  99,  97,  85,  95, 102,  96,  86,  87,\n",
       "         91,  93,  91,  87,  86,  90,  98, 100,  93,  95,  88,  92,  92,\n",
       "         91,  88,  85,  87,  97,  97,  89,  89,  90,  91,  90,  92,  98,\n",
       "        100,  96],\n",
       "       [ 92,  94,  98,  96,  90,  87,  95,  94,  96,  94,  87,  90,  91,\n",
       "         93,  94,  96,  97,  97,  98,  95,  93, 103,  96,  90,  91,  92,\n",
       "        104, 108, 106,  98,  93,  99, 106, 104, 103,  96,  94,  92,  96,\n",
       "        103, 105]])"
      ]
     },
     "execution_count": 22,
     "metadata": {},
     "output_type": "execute_result"
    }
   ],
   "source": [
    "resultado = zc(chunks_time,2.28618042e-05)\n",
    "np.array(resultado)[0]"
   ]
  },
  {
   "cell_type": "code",
   "execution_count": 24,
   "id": "3c439d74",
   "metadata": {},
   "outputs": [
    {
     "data": {
      "text/plain": [
       "(60, 2, 41, 1024)"
      ]
     },
     "execution_count": 24,
     "metadata": {},
     "output_type": "execute_result"
    }
   ],
   "source": [
    "chunks_time.shape"
   ]
  },
  {
   "cell_type": "code",
   "execution_count": null,
   "id": "dba247b6",
   "metadata": {},
   "outputs": [],
   "source": []
  },
  {
   "cell_type": "code",
   "execution_count": null,
   "id": "a912d416",
   "metadata": {},
   "outputs": [],
   "source": []
  },
  {
   "cell_type": "code",
   "execution_count": null,
   "id": "65c834bf",
   "metadata": {},
   "outputs": [],
   "source": []
  },
  {
   "cell_type": "markdown",
   "id": "9b29e8d7",
   "metadata": {},
   "source": [
    "**Desafio 2**: Implemente todas as características apresentadas neste tutorial em formato de funções. Sinta-se livre também para buscar e implementar características EMG além das apresentadas, citando as fontes de tais características.\n",
    "\n",
    "\n",
    "## Vetor de características\n",
    "\n",
    "Ao final da implementação e seleção das características, deve ser escolhida as características e então teremos um vetor com todas elas implementadas.\n",
    "\n",
    "O vetor de características estará organizado da seguinte forma (exemplo p/ VAR, RMS, RDM e MMDF):\n",
    "\n",
    "| ID sample | VAR1 | RMS1 | FMD1 | MMDF1 | VAR2 | RMS2 | FMD2 | MMDF2 | Classe |\n",
    "|:---------:|:----:|:----:|:----:|:-----:|------|------|------|-------|:------:|\n",
    "|     1     |  v1  |  v1  |  v1  |   v1  | v1   | v1   | v1   | v1    |    0   |\n",
    "|     2     |  v2  |  v2  |  v2  |   v2  | v2   | v2   | v2   | v2    |    0   |\n",
    "|    ...    |  ... |  ... |  ... |  ...  | ...  | ...  | ...  | ...   |   ...  |\n",
    "|     N     |  vN  |  vN  |  vN  |   vN  | vN   | vN   | vN   | vN    |    7   |\n",
    "\n",
    "## Implementação do vetor"
   ]
  },
  {
   "cell_type": "code",
   "execution_count": 19,
   "id": "61fc7ee4",
   "metadata": {},
   "outputs": [
    {
     "data": {
      "text/plain": [
       "(6, 60, 2, 41)"
      ]
     },
     "execution_count": 19,
     "metadata": {},
     "output_type": "execute_result"
    }
   ],
   "source": [
    "final_data = list()\n",
    "final_data.append(var(chunks_time))\n",
    "final_data.append(rms(chunks_time))\n",
    "final_data.append(wamp(chunks_time, th))\n",
    "final_data.append(wl(chunks_time))\n",
    "\n",
    "final_data.append(fmd(chunks_freq))\n",
    "final_data.append(mmdf(chunks_freq))\n",
    "\n",
    "final = np.array(final_data)\n",
    "final.shape"
   ]
  },
  {
   "cell_type": "markdown",
   "id": "2d93df61",
   "metadata": {},
   "source": [
    "É necessário que seja reordenado as dimensões do vetor de características, pois cada característica (de cada canal), deve corresponder à última dimensão do vetor. Por fim, as outras dimensões são concatenadas para o número de amostras."
   ]
  },
  {
   "cell_type": "code",
   "execution_count": 20,
   "id": "b56d255e",
   "metadata": {},
   "outputs": [
    {
     "data": {
      "text/plain": [
       "(2460, 12)"
      ]
     },
     "execution_count": 20,
     "metadata": {},
     "output_type": "execute_result"
    }
   ],
   "source": [
    "data = final.transpose(1, 3, 2, 0)\n",
    "X = data.reshape(data.shape[0]*data.shape[1], data.shape[2]*data.shape[3])\n",
    "X.shape"
   ]
  },
  {
   "cell_type": "markdown",
   "id": "47fbd7ab",
   "metadata": {},
   "source": [
    "## Seleção de características\n",
    "\n",
    "Nesta etapa, são selecionadas as características que mais afetam positivamente no resultado final da classificação. Vamos estudar os métodos de seleção de características nesta [página do projeto sklearn](https://scikit-learn.org/stable/modules/feature_selection.html).\n",
    "\n",
    "**Desafio 3**: mostrar o resultado para os dados de trabalho, para os seguintes métodos seleção de características:\n",
    "- VarianceThreshold\n",
    "- Univariate feature selection\n",
    "    - escolha o que mais for \"interessante\": `SelectKBest`, `SelectPercentile` e `GenericUnivariateSelect`\n",
    "- Recursive feature elimination\n",
    "- Sequential Feature Selection"
   ]
  }
 ],
 "metadata": {
  "kernelspec": {
   "display_name": "Python 3 (ipykernel)",
   "language": "python",
   "name": "python3"
  },
  "language_info": {
   "codemirror_mode": {
    "name": "ipython",
    "version": 3
   },
   "file_extension": ".py",
   "mimetype": "text/x-python",
   "name": "python",
   "nbconvert_exporter": "python",
   "pygments_lexer": "ipython3",
   "version": "3.9.2"
  }
 },
 "nbformat": 4,
 "nbformat_minor": 5
}
