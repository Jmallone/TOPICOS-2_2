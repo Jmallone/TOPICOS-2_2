{
 "cells": [
  {
   "cell_type": "markdown",
   "id": "498e344d",
   "metadata": {},
   "source": [
    "# Extração e seleção de características\n",
    "\n",
    "As características que são extraídas dos dados dependem de sua natureza. Os dados EMG são sinais elétricos coletados dentro de um período de tempo, portanto são dados no domínio do tempo. As características deste domínio são extraídas dele. Também é possível transformar os dados EMG para o domínio da frequência e extrair características neste domínio. Existem diversas características que podem ser extraídas de cada domínio, entretando nem todas elas serão relevantes. Cada problema se beneficia de características ou combinações delas. Portanto, é preciso que haja uma seleção de características para encontrar a combinação de características que trará melhor resultado na posterior classificação dos dados."
   ]
  },
  {
   "cell_type": "markdown",
   "id": "c5ab992f",
   "metadata": {},
   "source": [
    "## Reutilizando os passos anteriores\n",
    "\n",
    "É necessário carregar os dados pré-processados, para dar início à extração de características. No jupyter notebook podemos utilizar o namespace completo de outro notebook:"
   ]
  },
  {
   "cell_type": "code",
   "execution_count": 1,
   "id": "dda6bf67",
   "metadata": {},
   "outputs": [
    {
     "name": "stdout",
     "output_type": "stream",
     "text": [
      "(20000, 2)\n",
      "(10, 6, 20000, 2) - (classes, ensaios, linhas, canais)\n",
      "(10, 6, 2, 20000) - (classes, ensaios, canais, linhas)\n",
      "(10, 6, 2, 20000) - (classes, ensaios, canais, linhas)\n",
      "(10, 6, 2, 20000) - (classes, ensaios, canais, linhas)\n",
      "(10, 6, 2, 20000) - (classes, ensaios, canais, linhas)\n",
      "(10, 6, 2, 20000) - (classes, ensaios, canais, linhas)\n",
      "(10, 6, 2, 20000) - (classes, ensaios, canais, linhas)\n",
      "(10, 6, 2, 20000) - (classes, ensaios, canais, linhas)\n",
      "(10, 6, 2, 20000) - (classes, ensaios, canais, linhas)\n",
      "(10, 6, 2, 20000) - (classes, ensaios, canais, linhas)\n",
      "(10, 6, 2, 20000) - (classes, ensaios, canais, linhas)\n",
      "(10, 6, 2, 20000) - (classes, ensaios, canais, linhas)\n",
      " (60, 2, 20000)\n",
      "Formato (shape) dos dados depois da divisão de janelas\n",
      "Dominio do tempo: (60, 2, 41, 1024) - (classes+ensaios, canais, janelas, linhas)\n",
      "Dominio da frequência:  (60, 2, 41, 513) - (classes+ensaios, canais, janelas, linhas)\n"
     ]
    }
   ],
   "source": [
    "%run preprocessing.ipynb"
   ]
  },
  {
   "cell_type": "markdown",
   "id": "e502801e",
   "metadata": {},
   "source": [
    "Uma característica é uma propriedade individual mensurável ou característica de um fenômeno que está sendo observado. Em EMG, uma característica pode ser extraída no domínio do tempo ou no domínio da frequência. As características a seguir foram retiradas do artigo *EMG Feature Extraction for Tolerance of White Gaussian Noise* \\[1\\].\n",
    "\n",
    "### Domínio do tempo\n",
    "\n",
    "1. Willison Amplitude (WAMP)\n",
    "\n",
    "    > $ \\sum_{i=1}^{N-1}f(|x_i - x_{i+1}|) \\\\$\n",
    "    $ sgn(x) = \\begin{cases} 1 & \\text{if } x \\geq threshold \\\\ 0 & \\text{otherwise} \\end{cases} $\n",
    "\n",
    "2. Variance of EMG (VAR-E)\n",
    "\n",
    "    > $ \\frac{1}{N}\\sum_{i=1}^{N}x_i^2 $\n",
    "\n",
    "3. Root Mean Square (RMS)\n",
    "\n",
    "    > $ \\sqrt{\\frac{1}{N-1}\\sum_{i=1}^{N}|x_i|^2} $\n",
    "\n",
    "4. Waveform Length (WL)\n",
    "    \n",
    "    > $ \\sum_{i=1}^{N-1}|x_{i+1} - x_i| $\n",
    "\n",
    "5. Zero Crossing (ZC)\n",
    "\n",
    "    > $ \\sum_{i=1}^{N}[sgn(x_i x_{i+1}) \\cap |x_i - x_{i+1}| \\geq threshold] \\\\$\n",
    "    $ sgn(x) = \\begin{cases} 1 & \\text{if } x \\geq threshold \\\\ 0 & \\text{otherwise} \\end{cases} $\n",
    "\n",
    "### Domínio da frequência\n",
    "\n",
    "1. Auto Regressive (AR)\n",
    "\n",
    "    > $ - \\sum_{j=1}^{\\rho}\\alpha_j x_{j-1} + w_n $\n",
    "\n",
    "2. Median Frequency (FMD)\n",
    "\n",
    "    > $ \\frac{1}{2}\\sum_{j=1}^{M}PSD_j $\n",
    "\n",
    "3. Mean Frequency (FMN)\n",
    "\n",
    "    > $ \\sum_{j=1}^{M}f_j PSD_j \\Big{ / } \\sum_{j=1}^{M}PSD_j $\n",
    "\n",
    "4. Modified Median Frequency (MMDF)\n",
    "\n",
    "    > $ \\frac{1}{2}\\sum_{i=1}^{M}A_j $\n",
    "\n",
    "\n",
    "\\[1\\] Phinyomark, Angkoon & Limsakul, Chusak & Phukpattaranont, P.. (2008). EMG Feature Extraction for Tolerance of White Gaussian Noise.\n",
    "[Disponível neste link](https://www.researchgate.net/publication/263765853_EMG_Feature_Extraction_for_Tolerance_of_White_Gaussian_Noise)\n",
    "\n",
    "**Desafio 1**: Descrever as características de acordo com o artigo citado e outros disponíveis relacionados. O que está querendo \"ser visto\" em cada característica? Qual é o significado matemático de cada uma delas?"
   ]
  },
  {
   "cell_type": "markdown",
   "id": "b9cc5916",
   "metadata": {},
   "source": [
    "### Extraindo características\n",
    "\n",
    "É necessário implementar as características, geralmente em formato de funções ou métodos, para que seja possível aplicar tais funções aos dados de entrada e obter as características resultantes. A seguir temos a implementação das características VAR & RMS (domínio do tempo) e FDM & MMDF (domínio da frequência)."
   ]
  },
  {
   "cell_type": "code",
   "execution_count": 68,
   "id": "5f5b617a",
   "metadata": {},
   "outputs": [],
   "source": []
  },
  {
   "cell_type": "code",
   "execution_count": 16,
   "id": "e15a73e9",
   "metadata": {},
   "outputs": [],
   "source": [
    "from math import prod\n",
    "\n",
    "# funções auxiliares\n",
    "def PSD(w):\n",
    "    ''' definição da função PSD para o sinal no domínio da frequência '''\n",
    "    return np.abs(w) ** 2\n",
    "\n",
    "\n",
    "# funções de extração de características\n",
    "\n",
    "def wamp(x, th):\n",
    "    res = np.abs(np.diff(x))\n",
    "    return np.sum(res >= th, axis=-1)\n",
    "\n",
    "def wl(x):\n",
    "    res = np.abs(np.diff(x))\n",
    "    return np.sum(res, axis=-1)\n",
    "\n",
    "def var(x):\n",
    "    return np.sum(x ** 2, axis=-1) / (np.prod(x.shape[:-1]) - 1)\n",
    "\n",
    "def rms(x):\n",
    "    return np.sqrt(np.sum(np.abs(x) ** 2, axis=-1) / (np.prod(x.shape[:-1]) - 1))\n",
    "\n",
    "def fmd(w):\n",
    "    return np.sum(PSD(w), axis=-1) / 2\n",
    "\n",
    "def mmdf(w):\n",
    "    return np.sum(np.abs(w), axis=-1) / 2\n"
   ]
  },
  {
   "cell_type": "code",
   "execution_count": 17,
   "id": "fe476788",
   "metadata": {},
   "outputs": [],
   "source": [
    "def moda(x):\n",
    "    vals,counts = np.unique(x, return_counts=True)\n",
    "    mode_value = np.argwhere(counts == np.max(counts))\n",
    "    print(vals)\n",
    "    \n",
    "    return mode_value.flatten().tolist(), vals, counts"
   ]
  },
  {
   "cell_type": "code",
   "execution_count": 15,
   "id": "64c0f1d4",
   "metadata": {},
   "outputs": [],
   "source": [
    "from scipy import stats\n",
    "\n",
    "th = np.median(chunks_time)\n",
    "avr = np.mean(chunks_time)\n",
    "# m, vals, counts = moda(chunks_time)"
   ]
  },
  {
   "cell_type": "markdown",
   "id": "ae5b280b",
   "metadata": {},
   "source": [
    "https://ieeexplore.ieee.org/stamp/stamp.jsp?tp=&arnumber=8951119"
   ]
  },
  {
   "cell_type": "markdown",
   "id": "50814deb",
   "metadata": {},
   "source": [
    "# ZC"
   ]
  },
  {
   "cell_type": "code",
   "execution_count": 14,
   "id": "a0bd81a2",
   "metadata": {},
   "outputs": [],
   "source": [
    "def getZC(data, th):\n",
    "    tamanho = len(data)\n",
    "    somatoria = 0\n",
    "    \n",
    "    for i in range(tamanho-1):\n",
    "        resultado = (data[i] * data[i+1] )\n",
    "        resultado2 = np.abs(data[i] - data[i+1])\n",
    "        if(resultado < 0 ) and (resultado2 > th):\n",
    "            somatoria += 1\n",
    "        \n",
    "    return somatoria"
   ]
  },
  {
   "cell_type": "code",
   "execution_count": 13,
   "id": "665cb588",
   "metadata": {},
   "outputs": [],
   "source": [
    "def zc(data,threshold):\n",
    "    f =[]\n",
    "    x,y,z = data.shape[:3]\n",
    "    for xx in range(x):\n",
    "        fx = []\n",
    "        for yy in range(y):\n",
    "            fy = []\n",
    "            for zz in range(z):\n",
    "                fy.append( getZC(data[xx][yy][zz], threshold ) )\n",
    "            fx.append(fy)\n",
    "        f.append(fx)\n",
    "    return np.array(f)"
   ]
  },
  {
   "cell_type": "markdown",
   "id": "fd74e3a0",
   "metadata": {},
   "source": [
    "# FMN"
   ]
  },
  {
   "cell_type": "code",
   "execution_count": 23,
   "id": "9d2f54b0",
   "metadata": {},
   "outputs": [],
   "source": [
    "def fj(i, sampleRate, tamanho):\n",
    "    return i * sampleRate / (2 * tamanho)\n",
    "\n",
    "def getFMN(data):\n",
    "    tamanho = len(data)\n",
    "    somatoria = 0\n",
    "    sumPSD = np.sum(PSD(data))\n",
    "    for i in range(tamanho):\n",
    "        somatoria += (fj(i, 41, tamanho) * PSD(data[i]) ) / sumPSD\n",
    "        \n",
    "    return somatoria\n",
    "\n",
    "def fmn(data):\n",
    "    f =[]\n",
    "    x,y,z = data.shape[:3]\n",
    "    for xx in range(x):\n",
    "        fx = []\n",
    "        for yy in range(y):\n",
    "            fy = []\n",
    "            for zz in range(z):\n",
    "                \n",
    "                fy.append( getFMN(data[xx][yy][zz]) )\n",
    "                \n",
    "            fx.append(fy)\n",
    "        f.append(fx)\n",
    "    return np.array(f)\n"
   ]
  },
  {
   "cell_type": "code",
   "execution_count": 24,
   "id": "a68116cf",
   "metadata": {},
   "outputs": [
    {
     "data": {
      "text/plain": [
       "array([[[1.82132157, 2.22547735, 1.85837822, ..., 1.88364889,\n",
       "         2.01122836, 2.45325767],\n",
       "        [2.60220114, 2.54342558, 2.48523889, ..., 2.48736874,\n",
       "         2.41668889, 3.20877057]],\n",
       "\n",
       "       [[1.82356548, 1.94036826, 1.69863416, ..., 1.874569  ,\n",
       "         2.02610919, 1.64297289],\n",
       "        [2.37276838, 2.40134322, 2.32110177, ..., 2.51698974,\n",
       "         2.30787107, 2.90394761]],\n",
       "\n",
       "       [[1.94958439, 1.74304012, 1.88923428, ..., 1.759468  ,\n",
       "         1.79430558, 2.93485409],\n",
       "        [2.49783887, 2.51551645, 2.39997436, ..., 2.36971616,\n",
       "         2.30183652, 1.92074451]],\n",
       "\n",
       "       ...,\n",
       "\n",
       "       [[1.67784353, 1.6429519 , 1.66031528, ..., 1.64922762,\n",
       "         1.52709062, 1.63173668],\n",
       "        [1.71055469, 1.78185126, 1.99150736, ..., 2.03178379,\n",
       "         2.10693826, 1.74562977]],\n",
       "\n",
       "       [[1.86506515, 1.92420251, 1.68682857, ..., 1.66172483,\n",
       "         1.62244006, 1.58930701],\n",
       "        [1.66465147, 1.96659022, 1.76386022, ..., 1.85919935,\n",
       "         2.05524702, 3.23678116]],\n",
       "\n",
       "       [[1.70766048, 1.65845183, 1.83291035, ..., 1.67230459,\n",
       "         1.94482347, 2.39641955],\n",
       "        [2.01959539, 1.97719801, 1.86186321, ..., 1.98047989,\n",
       "         1.82129981, 2.39250185]]])"
      ]
     },
     "execution_count": 24,
     "metadata": {},
     "output_type": "execute_result"
    }
   ],
   "source": [
    "resultado = fmn(chunks_freq)\n",
    "resultado"
   ]
  },
  {
   "cell_type": "code",
   "execution_count": 25,
   "id": "b63c898f",
   "metadata": {},
   "outputs": [
    {
     "data": {
      "text/plain": [
       "(60, 2, 41)"
      ]
     },
     "execution_count": 25,
     "metadata": {},
     "output_type": "execute_result"
    }
   ],
   "source": [
    "resultado.shape"
   ]
  },
  {
   "cell_type": "markdown",
   "id": "71051a6a",
   "metadata": {},
   "source": [
    "# MMNF"
   ]
  },
  {
   "cell_type": "code",
   "execution_count": 20,
   "id": "8f181b06",
   "metadata": {},
   "outputs": [],
   "source": [
    "def A(w):\n",
    "    return np.abs(w)\n",
    "\n",
    "def getMMNF(data):\n",
    "    tamanho = len(data)\n",
    "    somatoria = 0\n",
    "    \n",
    "    sumA = np.sum(A(data))\n",
    "    \n",
    "    for i in range(tamanho):\n",
    "        somatoria += (fj(i, 200, tamanho) * A(data[i]) ) / sumA \n",
    "        \n",
    "    return somatoria\n",
    "\n",
    "def mmnf(data):\n",
    "    f =[]\n",
    "    x,y,z = data.shape[:3]\n",
    "    for xx in range(x):\n",
    "        fx = []\n",
    "        for yy in range(y):\n",
    "            fy = []\n",
    "            for zz in range(z):\n",
    "                \n",
    "                fy.append( getMMNF(data[xx][yy][zz]) )\n",
    "                \n",
    "            fx.append(fy)\n",
    "        f.append(fx)\n",
    "    return np.array(f)\n"
   ]
  },
  {
   "cell_type": "code",
   "execution_count": 21,
   "id": "6bc3aa82",
   "metadata": {},
   "outputs": [
    {
     "data": {
      "text/plain": [
       "(60, 2, 41)"
      ]
     },
     "execution_count": 21,
     "metadata": {},
     "output_type": "execute_result"
    }
   ],
   "source": [
    "resultado = mmnf(chunks_freq)\n",
    "resultado.shape"
   ]
  },
  {
   "cell_type": "code",
   "execution_count": 46,
   "id": "83c543ef",
   "metadata": {},
   "outputs": [
    {
     "data": {
      "text/plain": [
       "(60, 2, 41, 513)"
      ]
     },
     "execution_count": 46,
     "metadata": {},
     "output_type": "execute_result"
    }
   ],
   "source": [
    "resultado.shape"
   ]
  },
  {
   "cell_type": "code",
   "execution_count": null,
   "id": "cfb66ea3",
   "metadata": {},
   "outputs": [],
   "source": []
  },
  {
   "cell_type": "markdown",
   "id": "9b29e8d7",
   "metadata": {},
   "source": [
    "**Desafio 2**: Implemente todas as características apresentadas neste tutorial em formato de funções. Sinta-se livre também para buscar e implementar características EMG além das apresentadas, citando as fontes de tais características.\n",
    "\n",
    "\n",
    "## Vetor de características\n",
    "\n",
    "Ao final da implementação e seleção das características, deve ser escolhida as características e então teremos um vetor com todas elas implementadas.\n",
    "\n",
    "O vetor de características estará organizado da seguinte forma (exemplo p/ VAR, RMS, RDM e MMDF):\n",
    "\n",
    "| ID sample | VAR1 | RMS1 | FMD1 | MMDF1 | VAR2 | RMS2 | FMD2 | MMDF2 | Classe |\n",
    "|:---------:|:----:|:----:|:----:|:-----:|------|------|------|-------|:------:|\n",
    "|     1     |  v1  |  v1  |  v1  |   v1  | v1   | v1   | v1   | v1    |    0   |\n",
    "|     2     |  v2  |  v2  |  v2  |   v2  | v2   | v2   | v2   | v2    |    0   |\n",
    "|    ...    |  ... |  ... |  ... |  ...  | ...  | ...  | ...  | ...   |   ...  |\n",
    "|     N     |  vN  |  vN  |  vN  |   vN  | vN   | vN   | vN   | vN    |    7   |\n",
    "\n",
    "## Implementação do vetor"
   ]
  },
  {
   "cell_type": "code",
   "execution_count": 26,
   "id": "61fc7ee4",
   "metadata": {},
   "outputs": [
    {
     "data": {
      "text/plain": [
       "(9, 60, 2, 41)"
      ]
     },
     "execution_count": 26,
     "metadata": {},
     "output_type": "execute_result"
    }
   ],
   "source": [
    "final_data = list()\n",
    "final_data.append(var(chunks_time))\n",
    "final_data.append(rms(chunks_time))\n",
    "final_data.append(wamp(chunks_time, th))\n",
    "final_data.append(wl(chunks_time))\n",
    "final_data.append(zc(chunks_time,0))\n",
    "\n",
    "final_data.append(fmd(chunks_freq))\n",
    "final_data.append(mmdf(chunks_freq))\n",
    "final_data.append(fmn(chunks_freq))\n",
    "final_data.append(mmnf(chunks_freq))\n",
    "\n",
    "final = np.array(final_data)\n",
    "final.shape"
   ]
  },
  {
   "cell_type": "markdown",
   "id": "2d93df61",
   "metadata": {},
   "source": [
    "É necessário que seja reordenado as dimensões do vetor de características, pois cada característica (de cada canal), deve corresponder à última dimensão do vetor. Por fim, as outras dimensões são concatenadas para o número de amostras."
   ]
  },
  {
   "cell_type": "code",
   "execution_count": 27,
   "id": "b56d255e",
   "metadata": {},
   "outputs": [
    {
     "data": {
      "text/plain": [
       "(2460, 18)"
      ]
     },
     "execution_count": 27,
     "metadata": {},
     "output_type": "execute_result"
    }
   ],
   "source": [
    "data = final.transpose(1, 3, 2, 0)\n",
    "X = data.reshape(data.shape[0]*data.shape[1], data.shape[2]*data.shape[3])\n",
    "X.shape"
   ]
  },
  {
   "cell_type": "markdown",
   "id": "47fbd7ab",
   "metadata": {},
   "source": [
    "## Seleção de características\n",
    "\n",
    "Nesta etapa, são selecionadas as características que mais afetam positivamente no resultado final da classificação. Vamos estudar os métodos de seleção de características nesta [página do projeto sklearn](https://scikit-learn.org/stable/modules/feature_selection.html).\n",
    "\n",
    "**Desafio 3**: mostrar o resultado para os dados de trabalho, para os seguintes métodos seleção de características:\n",
    "- VarianceThreshold\n",
    "- Univariate feature selection\n",
    "    - escolha o que mais for \"interessante\": `SelectKBest`, `SelectPercentile` e `GenericUnivariateSelect`\n",
    "- Recursive feature elimination\n",
    "- Sequential Feature Selection"
   ]
  }
 ],
 "metadata": {
  "kernelspec": {
   "display_name": "Python 3 (ipykernel)",
   "language": "python",
   "name": "python3"
  },
  "language_info": {
   "codemirror_mode": {
    "name": "ipython",
    "version": 3
   },
   "file_extension": ".py",
   "mimetype": "text/x-python",
   "name": "python",
   "nbconvert_exporter": "python",
   "pygments_lexer": "ipython3",
   "version": "3.9.2"
  }
 },
 "nbformat": 4,
 "nbformat_minor": 5
}
